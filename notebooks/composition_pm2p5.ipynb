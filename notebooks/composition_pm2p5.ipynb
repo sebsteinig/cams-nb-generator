{
 "cells": [
  {
   "cell_type": "markdown",
   "id": "f95a9d9b",
   "metadata": {},
   "source": [
    "# Visualising CAMS ${title}"
   ]
  },
  {
   "cell_type": "markdown",
   "id": "799c76e8",
   "metadata": {},
   "source": [
    "## overview\n",
    "\n",
    "This notebook provides tools to access and visualise [Copernicus Atmosphere Monitoring Service (CAMS)](https://atmosphere.copernicus.eu/) forecasts. The data is accessed through the [Atmosphere Data Store (ADS)](https://ads.atmosphere.copernicus.eu/) and visualised via the [earthkit package](https://earthkit.readthedocs.io/).\n",
    "\n",
    "It demonstrates how to:\n",
    "- Download CAMS forecast data from the ADS\n",
    "- Process and analyse the data\n",
    "- Plot global maps in different projections"
   ]
  },
  {
   "cell_type": "markdown",
   "id": "fa1646dd",
   "metadata": {},
   "source": [
    "The notebook should contain all necessary code and default settings to exactly reproduce the below forecast chart:\n",
    "\n",
    "![CAMS web chart to reproduce](../data/webcharts/latest_webchart.png)"
   ]
  },
  {
   "cell_type": "markdown",
   "id": "43fe8fdd",
   "metadata": {},
   "source": [
    "## environment setup"
   ]
  },
  {
   "cell_type": "markdown",
   "id": "b06767d8",
   "metadata": {},
   "source": [
    "#### conda setup\n",
    "First, download and install Anaconda:\n",
    "\n",
    "1. Visit the [Anaconda download page](https://www.anaconda.com/download)\n",
    "2. Download the appropriate installer for your operating system (Windows, macOS, or Linux)\n",
    "3. Run the installer and follow the installation instructions\n",
    "\n",
    "After installing Anaconda, open a terminal (or Anaconda Prompt on Windows) and follow these steps:\n",
    "\n",
    "First, create a new conda environment:\n",
    "```bash\n",
    "conda create -n cams-viz python=3.10\n",
    "```\n",
    "\n",
    "Activate the environment:\n",
    "```bash\n",
    "conda activate cams-viz\n",
    "```\n",
    "\n",
    "Install required packages:\n",
    "```bash\n",
    "conda install -c conda-forge earthkit-data earthkit-plots matplotlib numpy netcdf4 jupyterlab\n",
    "```\n",
    "\n",
    "Navigate to the directory containing this notebook and start a JupyterLab server:\n",
    "```bash\n",
    "jupyter lab\n",
    "```\n",
    "\n",
    "This will open a web browser where you can interact with the notebook."
   ]
  },
  {
   "cell_type": "markdown",
   "id": "4562144a",
   "metadata": {},
   "source": [
    "#### import packages"
   ]
  },
  {
   "cell_type": "code",
   "execution_count": null,
   "id": "b0099400",
   "metadata": {},
   "outputs": [],
   "source": [
    "# Now we can import the required packages:\n",
    "import os\n",
    "import numpy as np\n",
    "import earthkit.data as ekdata\n",
    "import earthkit.plots as ekplots\n",
    "import matplotlib.pyplot as plt \n",
    "from datetime import datetime, timedelta"
   ]
  },
  {
   "cell_type": "markdown",
   "id": "940f2e18",
   "metadata": {},
   "source": [
    "#### user settings"
   ]
  },
  {
   "cell_type": "code",
   "execution_count": null,
   "id": "e9d5655a",
   "metadata": {},
   "outputs": [],
   "source": [
    "# Data directory where files will be stored\n",
    "DATA_DIR = './data'\n",
    "\n",
    "# Get yesterday and today dates for default forecast times\n",
    "today = datetime.now()\n",
    "yesterday = today - timedelta(days=1)\n",
    "\n",
    "# Forecast base time (when the forecast starts from)\n",
    "# Default: Yesterday, but can be changed to any date in the past (YYYY-MM-DD)\n",
    "FORECAST_BASE_TIME = yesterday.strftime('%Y-%m-%d')\n",
    "\n",
    "# Forecast valid time (the time we want to forecast for)\n",
    "# Default: Today, but can be changed to any date within 5 days of the forecast base time (YYYY-MM-DD)\n",
    "FORECAST_VALID_TIME = today.strftime('%Y-%m-%d')\n",
    "\n",
    "# Create data directory if it doesn't exist\n",
    "os.makedirs(DATA_DIR, exist_ok=True)"
   ]
  },
  {
   "cell_type": "markdown",
   "id": "b995f007",
   "metadata": {},
   "source": [
    "## data download"
   ]
  },
  {
   "cell_type": "markdown",
   "id": "a47154a0",
   "metadata": {},
   "source": [
    "The `CDS Application Program Interface (CDS API)` is a Python library which allows you to access data from the ADS `programmatically`. The library is available for both Python versions, Python 2.7.x and Python 3, but we recommend to use the library under Python 3. In order to use the CDS API, follow the steps below:\n",
    "\n",
    "* [Self-register](https://ads.atmosphere.copernicus.eu/#!/home) at the ADS registration page (if you do not have an account yet)\n",
    "* [Login](https://ads.atmosphere.copernicus.eu/user/login) to the ADS portal and go to the [api-how-to page](https://ads.atmosphere.copernicus.eu/api-how-to)\n",
    "* Copy the CDS API key displayed in the black terminal window in a file under `$HOME/.cdsapirc`\n",
    "\n",
    "**Note:** You find your CDS API key displayed in the black terminal box under the section `Install the CDS API key`. If you do not see a URL or key appear in the black terminal box, please refresh your browser tab. \n",
    "  "
   ]
  },
  {
   "cell_type": "code",
   "execution_count": null,
   "id": "525d3a32",
   "metadata": {},
   "outputs": [],
   "source": [
    "# Install the CDS API client to download data:\n",
    "!pip install cdsapi"
   ]
  },
  {
   "cell_type": "code",
   "execution_count": null,
   "id": "5b001d35",
   "metadata": {},
   "outputs": [],
   "source": [
    "\n",
    "dataset = \"cams-global-atmospheric-composition-forecasts\"\n",
    "request = {\n",
    "    'variable': ['${variable}'],\n",
    "    'date': [f'{FORECAST_BASE_TIME}/{FORECAST_BASE_TIME}'],\n",
    "    'time': ['12:00'],\n",
    "    'leadtime_hour': ['0'],\n",
    "    'type': ['forecast'],\n",
    "    'data_format': 'netcdf4',\n",
    "}\n",
    "\n",
    "client = cdsapi.Client(url=URL, key=KEY)\n",
    "client.retrieve(dataset, request).download(f'{DATA_DIR}/{FORECAST_BASE_TIME}_${variable}.zip')"
   ]
  },
  {
   "cell_type": "markdown",
   "id": "af9f23dc",
   "metadata": {},
   "source": [
    "## processing"
   ]
  },
  {
   "cell_type": "markdown",
   "id": "7c95f079",
   "metadata": {},
   "source": [
    "let's do some processing"
   ]
  },
  {
   "cell_type": "code",
   "execution_count": null,
   "id": "9e3f259e",
   "metadata": {},
   "outputs": [],
   "source": [
    "# Regrid data to 1-degree resolution\n",
    "data = ekdata.regrid(data, resolution=1.0) "
   ]
  },
  {
   "cell_type": "code",
   "execution_count": null,
   "id": "f8f72d7e",
   "metadata": {},
   "outputs": [],
   "source": [
    "# Calculate time average\n",
    "data = data.mean(dim='time') "
   ]
  },
  {
   "cell_type": "markdown",
   "id": "d5321f3c",
   "metadata": {},
   "source": [
    "## visualisation"
   ]
  },
  {
   "cell_type": "code",
   "execution_count": null,
   "id": "72d77529",
   "metadata": {},
   "outputs": [],
   "source": [
    "plot_settings = {'layer_name': 'composition_pm2p5', 'title': 'PM2.5 - fine particulate matter [ug / m3] (provided by CAMS)', 'description': 'Fine particulate matter (PM2.5). Note that this layer is ONLY available from 00UTC run around 20UTC up to step 120.', 'style_name': 'sh_all_pmx_ncl_precip_11lev', 'levels': [10.0, 20.0, 30.0, 40.0, 50.0, 60.0, 80.0, 100.0, 150.0, 200.0, 300.0, 500.0, 9999.0], 'colours': [(1.0, 1.0, 1.0), (0.9294, 0.9804, 0.7608), (0.8039, 1.0, 0.8039), (0.6, 0.9412, 0.698), (0.3255, 0.7412, 0.6235), (0.1961, 0.651, 0.5882), (0.1961, 0.5882, 0.7059), (0.0196, 0.4392, 0.6902), (0.0196, 0.3137, 0.549), (0.0392, 0.1216, 0.5882), (0.1725, 0.0078, 0.2745), (0.4157, 0.1725, 0.3529)]}"
   ]
  },
  {
   "cell_type": "code",
   "execution_count": null,
   "id": "0cc99ef7",
   "metadata": {},
   "outputs": [],
   "source": [
    "# Create global map visualization\n",
    "fig = plt.figure(figsize=(12, 8))\n",
    "ekplots.geomap(\n",
    "    data,\n",
    "    projection='PlateCarree',\n",
    "    colormap='viridis',\n",
    "    title='Global Aerosol Optical Depth'\n",
    ")\n",
    "plt.show() "
   ]
  },
  {
   "cell_type": "code",
   "execution_count": null,
   "id": "ace2d905",
   "metadata": {},
   "outputs": [],
   "source": [
    "# Create zonal mean plot\n",
    "data.mean(dim='longitude').plot(\n",
    "    figsize=(10, 6),\n",
    "    title='Zonal Mean AOD'\n",
    ")\n",
    "plt.show() "
   ]
  }
 ],
 "metadata": {},
 "nbformat": 4,
 "nbformat_minor": 5
}
